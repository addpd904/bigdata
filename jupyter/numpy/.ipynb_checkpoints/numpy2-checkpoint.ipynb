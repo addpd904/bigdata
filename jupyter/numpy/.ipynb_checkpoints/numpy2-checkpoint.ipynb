{
 "cells": [
  {
   "cell_type": "code",
   "execution_count": 18,
   "id": "b4e1778a",
   "metadata": {},
   "outputs": [
    {
     "data": {
      "text/plain": [
       "array([3.10850979, 2.53645163, 2.64460722])"
      ]
     },
     "execution_count": 18,
     "metadata": {},
     "output_type": "execute_result"
    }
   ],
   "source": [
    "import numpy as np\n",
    "stock_change=np.random.normal(loc=2,scale=0.7,size=(8,10))\n",
    "stock_change[0][0:3]\n"
   ]
  },
  {
   "cell_type": "code",
   "execution_count": 80,
   "id": "2fcfd9af",
   "metadata": {},
   "outputs": [
    {
     "name": "stdout",
     "output_type": "stream",
     "text": [
      "\n"
     ]
    }
   ],
   "source": [
    "# 一、\n",
    "# a.modify shape:reshape;resize;T\n",
    "# 1.return new array ,but original array doesn't change\n",
    "stock_change.reshape(10,8)\n",
    "print()"
   ]
  },
  {
   "cell_type": "code",
   "execution_count": null,
   "id": "4894f94b",
   "metadata": {},
   "outputs": [],
   "source": [
    "# 2.not return,change original array \n",
    "stock_change.resize((10,8))"
   ]
  },
  {
   "cell_type": "code",
   "execution_count": 26,
   "id": "c493e85f",
   "metadata": {},
   "outputs": [],
   "source": [
    "# 3.reverse row and column\n",
    "# stock_change.T"
   ]
  },
  {
   "cell_type": "code",
   "execution_count": 81,
   "id": "3101db10",
   "metadata": {},
   "outputs": [
    {
     "data": {
      "text/plain": [
       "array([[3, 2, 2, 2, 1, 2, 1, 1, 2, 2],\n",
       "       [1, 1, 2, 2, 3, 3, 1, 0, 2, 3],\n",
       "       [2, 1, 1, 1, 1, 1, 1, 2, 2, 3],\n",
       "       [2, 3, 3, 2, 2, 1, 2, 2, 2, 1],\n",
       "       [2, 0, 1, 1, 1, 1, 1, 1, 3, 0],\n",
       "       [1, 0, 1, 1, 1, 1, 2, 1, 1, 3],\n",
       "       [1, 2, 3, 2, 2, 1, 2, 1, 2, 2],\n",
       "       [2, 1, 1, 0, 2, 1, 2, 2, 1, 0]])"
      ]
     },
     "execution_count": 81,
     "metadata": {},
     "output_type": "execute_result"
    }
   ],
   "source": [
    "# b.modify type\n",
    "# astype\n",
    "stock_change.astype('int32')\n",
    "# tostring:serialization(ˌsɪəriəlaɪˈzeɪʃn)\n",
    "# stock_change.tostring()"
   ]
  },
  {
   "cell_type": "code",
   "execution_count": 48,
   "id": "1b7f1b2d",
   "metadata": {},
   "outputs": [
    {
     "data": {
      "text/plain": [
       "array([1, 2, 3, 5])"
      ]
     },
     "execution_count": 48,
     "metadata": {},
     "output_type": "execute_result"
    }
   ],
   "source": [
    "# c.Remove Duplicates\n",
    "nparray5=np.array([[1,2,3],\n",
    "                   [2,5,3]])\n",
    "\n",
    "np.unique(nparray5)"
   ]
  },
  {
   "cell_type": "code",
   "execution_count": 54,
   "id": "d5853a89",
   "metadata": {},
   "outputs": [
    {
     "data": {
      "text/plain": [
       "array([[1, 1, 1, 1, 1, 1, 1, 1],\n",
       "       [1, 1, 1, 1, 1, 1, 1, 1],\n",
       "       [1, 1, 1, 1, 1, 1, 1, 1],\n",
       "       [1, 1, 1, 1, 1, 1, 1, 1],\n",
       "       [1, 1, 1, 1, 1, 1, 1, 1],\n",
       "       [1, 1, 1, 1, 1, 1, 1, 1],\n",
       "       [1, 1, 1, 1, 1, 1, 1, 1]])"
      ]
     },
     "execution_count": 54,
     "metadata": {},
     "output_type": "execute_result"
    }
   ],
   "source": [
    "# 二、operation\n",
    "# a.logic operation\n",
    "# generate a array\n",
    "import random \n",
    "# *normal distribution\n",
    "# loc is average value,scale is standard deviation\n",
    "nparray6=np.random.normal(loc=1,scale=0.4,size=(7,8))\n",
    "# 1.return a boole array\n",
    "nparray6>0.5\n",
    "# logical_and:&\n",
    "np.logical_and(nparray6>0,nparray6<1)\n",
    "\n",
    "# 2.boole index\n",
    "nparray6[nparray6>0.5]\n",
    "# 3.all() :equivalently operation &(and)\n",
    "# any() :equivalently operation ||(or)\n",
    "# return true when all is true\n",
    "np.all(nparray6>0.5)\n",
    "# 4.ternary operator:where\n",
    "np.where(nparray6>0,1,0)"
   ]
  },
  {
   "cell_type": "code",
   "execution_count": 58,
   "id": "6a78bbd3",
   "metadata": {},
   "outputs": [
    {
     "data": {
      "text/plain": [
       "array([1.64158059, 1.50431301, 1.56408546, 2.06660554, 1.56823976,\n",
       "       1.85144506, 1.62981449, 1.48379883])"
      ]
     },
     "execution_count": 58,
     "metadata": {},
     "output_type": "execute_result"
    }
   ],
   "source": [
    "# b.static operation,min max,median,var(variance),std(standard deviation)),mean(mean value)\n",
    "# *normal distribution\n",
    "# loc is average value,scale is standard deviation\n",
    "nparray7=np.random.normal(loc=1,scale=0.4,size=(7,8))\n",
    "# get max in row\n",
    "nparray7.max(axis=1)\n",
    "# get max in column\n",
    "nparray7.max(axis=0)\n",
    "# get the index of max in column\n",
    "nparray7.argmax(axis=0)"
   ]
  },
  {
   "cell_type": "code",
   "execution_count": 79,
   "id": "6bf53716",
   "metadata": {},
   "outputs": [
    {
     "data": {
      "text/plain": [
       "array([[35, 28, 29],\n",
       "       [20, 33, 26],\n",
       "       [28, 27, 28]])"
      ]
     },
     "execution_count": 79,
     "metadata": {},
     "output_type": "execute_result"
    }
   ],
   "source": [
    "# c.operation in array\n",
    "# 1.operation in array and number\n",
    "nparray8=np.random.uniform(low=0,high=10,size=(3,3))\n",
    "nparray9=np.random.uniform(low=10,high=20,size=(3,3))\n",
    "npa10=nparray8.astype('int32')\n",
    "npa11=nparray9.astype('int32')\n",
    "npa10+=10\n",
    "# 1.operation in array and array\n",
    "npa10+npa11"
   ]
  },
  {
   "cell_type": "code",
   "execution_count": 89,
   "id": "12fd839d",
   "metadata": {
    "scrolled": true
   },
   "outputs": [
    {
     "data": {
      "text/plain": [
       "matrix([[359.1112087 , 261.78457403, 161.12202978],\n",
       "        [355.14736774, 237.49400977, 148.5525683 ],\n",
       "        [100.68102775,  73.7316041 ,  45.34249021]])"
      ]
     },
     "execution_count": 89,
     "metadata": {},
     "output_type": "execute_result"
    }
   ],
   "source": [
    "# c.operation in matrix\n",
    "nparray12=np.random.uniform(low=1,high=20,size=(3,2))\n",
    "nparray13=np.random.uniform(low=1,high=20,size=(2,3))\n",
    "\n",
    "data_mat1=np.mat(nparray12)\n",
    "data_mat2=np.mat(nparray13)\n",
    "# matric multiplication :three ways\n",
    "np.matmul(data_mat1,data_mat2)#array is also ok\n",
    "np.dot(data_mat1,data_mat2)#array is also ok\n",
    "data_mat1*data_mat2\n"
   ]
  },
  {
   "cell_type": "code",
   "execution_count": 83,
   "id": "b52f18a5",
   "metadata": {},
   "outputs": [
    {
     "data": {
      "text/plain": [
       "matrix([[14.01606688,  1.00268513,  8.81280669],\n",
       "        [ 5.7733511 , 10.19534419,  3.75925193],\n",
       "        [10.69648359,  1.98631229, 16.9445338 ]])"
      ]
     },
     "execution_count": 83,
     "metadata": {},
     "output_type": "execute_result"
    }
   ],
   "source": []
  },
  {
   "cell_type": "code",
   "execution_count": null,
   "id": "b7cdeb91",
   "metadata": {},
   "outputs": [],
   "source": []
  }
 ],
 "metadata": {
  "kernelspec": {
   "display_name": "Python 3 (ipykernel)",
   "language": "python",
   "name": "python3"
  },
  "language_info": {
   "codemirror_mode": {
    "name": "ipython",
    "version": 3
   },
   "file_extension": ".py",
   "mimetype": "text/x-python",
   "name": "python",
   "nbconvert_exporter": "python",
   "pygments_lexer": "ipython3",
   "version": "3.10.4"
  }
 },
 "nbformat": 4,
 "nbformat_minor": 5
}
