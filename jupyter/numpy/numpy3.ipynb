{
 "cells": [
  {
   "cell_type": "code",
   "execution_count": 6,
   "id": "d20297f6",
   "metadata": {},
   "outputs": [
    {
     "data": {
      "text/plain": [
       "array([[1, 2, 5, 6],\n",
       "       [3, 4, 7, 8]])"
      ]
     },
     "execution_count": 6,
     "metadata": {},
     "output_type": "execute_result"
    }
   ],
   "source": [
    "import numpy as np\n",
    "# 一、merge and split\n",
    "# merge\n",
    "# hstack:horizontal merge,the column will be added\n",
    "npa1=np.array([[1,2],\n",
    "             [3,4]])\n",
    "npa2=np.array([[5,6],\n",
    "             [7,8]])\n",
    "np.hstack((npa1,npa2))\n",
    "# vstack\n",
    "# concatenate(),axis=1,horizontal merge\n",
    "np.concatenate((npa1,npa2),axis=1)\n",
    "\n",
    "# Split"
   ]
  },
  {
   "cell_type": "code",
   "execution_count": null,
   "id": "a0af6015",
   "metadata": {},
   "outputs": [],
   "source": []
  }
 ],
 "metadata": {
  "kernelspec": {
   "display_name": "Python 3 (ipykernel)",
   "language": "python",
   "name": "python3"
  },
  "language_info": {
   "codemirror_mode": {
    "name": "ipython",
    "version": 3
   },
   "file_extension": ".py",
   "mimetype": "text/x-python",
   "name": "python",
   "nbconvert_exporter": "python",
   "pygments_lexer": "ipython3",
   "version": "3.10.4"
  }
 },
 "nbformat": 4,
 "nbformat_minor": 5
}
